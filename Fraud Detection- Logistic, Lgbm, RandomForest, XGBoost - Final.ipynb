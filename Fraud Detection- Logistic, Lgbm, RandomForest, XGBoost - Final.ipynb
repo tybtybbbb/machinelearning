{
 "cells": [
  {
   "cell_type": "code",
   "execution_count": 66,
   "metadata": {
    "colab": {
     "base_uri": "https://localhost:8080/",
     "height": 17
    },
    "colab_type": "code",
    "executionInfo": {
     "elapsed": 2789,
     "status": "ok",
     "timestamp": 1574725930181,
     "user": {
      "displayName": "anubhav bhatti",
      "photoUrl": "",
      "userId": "04278121675242864828"
     },
     "user_tz": 300
    },
    "id": "OtR6WtrIQjoM",
    "outputId": "621064d5-f6cd-47b5-d9e2-17680c57e1e3"
   },
   "outputs": [
    {
     "data": {
      "text/html": [
       "        <script type=\"text/javascript\">\n",
       "        window.PlotlyConfig = {MathJaxConfig: 'local'};\n",
       "        if (window.MathJax) {MathJax.Hub.Config({SVG: {font: \"STIX-Web\"}});}\n",
       "        if (typeof require !== 'undefined') {\n",
       "        require.undef(\"plotly\");\n",
       "        requirejs.config({\n",
       "            paths: {\n",
       "                'plotly': ['https://cdn.plot.ly/plotly-latest.min']\n",
       "            }\n",
       "        });\n",
       "        require(['plotly'], function(Plotly) {\n",
       "            window._Plotly = Plotly;\n",
       "        });\n",
       "        }\n",
       "        </script>\n",
       "        "
      ]
     },
     "metadata": {},
     "output_type": "display_data"
    }
   ],
   "source": [
    "#importing the required packages\n",
    "import pandas as pd\n",
    "import numpy as np\n",
    "import matplotlib as mpl\n",
    "import matplotlib.pyplot as plt\n",
    "%matplotlib inline\n",
    "import seaborn as sns\n",
    "import scipy.sparse\n",
    "import scipy.stats as st\n",
    "import missingno as msno\n",
    "import math\n",
    "import gc\n",
    "\n",
    "import os\n",
    "import plotly.graph_objs as go\n",
    "import plotly.tools as tls\n",
    "from plotly.offline import iplot, init_notebook_mode\n",
    "\n",
    "import plotly.figure_factory as ff\n",
    "\n",
    "init_notebook_mode(connected=True)\n",
    "\n",
    "from sklearn import preprocessing\n",
    "from sklearn.metrics import confusion_matrix, roc_auc_score\n",
    "from sklearn.model_selection import StratifiedKFold, cross_val_score, KFold\n",
    "from xgboost import XGBClassifier\n",
    "import xgboost as xgb\n",
    "\n",
    "## Hyperopt modules\n",
    "from hyperopt import fmin, hp, tpe, Trials, space_eval, STATUS_OK, STATUS_RUNNING\n",
    "from functools import partial\n",
    "from sklearn.model_selection import train_test_split\n",
    "from sklearn.preprocessing import LabelEncoder\n",
    "import seaborn as sns\n",
    "import matplotlib.pyplot as plt\n",
    "%matplotlib inline\n",
    "import scipy.sparse\n",
    "import gc\n",
    "from sklearn.linear_model import LogisticRegression\n",
    "from xgboost import XGBClassifier\n",
    "from sklearn.decomposition import PCA\n",
    "from sklearn.preprocessing import StandardScaler\n",
    "from sklearn.manifold import TSNE\n",
    "from sklearn.metrics import roc_auc_score\n",
    "import warnings \n",
    "from lightgbm import LGBMClassifier\n",
    "warnings.filterwarnings('ignore')\n",
    "from sklearn.linear_model import SGDClassifier\n",
    "from sklearn.ensemble import RandomForestClassifier"
   ]
  },
  {
   "cell_type": "code",
   "execution_count": 2,
   "metadata": {
    "colab": {},
    "colab_type": "code",
    "id": "j0rIVrluQjoQ"
   },
   "outputs": [],
   "source": [
    "#Loading the datset\n",
    "train_id = pd.read_csv(r'\\Data Analytics - Project\\train_identity.csv')\n",
    "train_tr = pd.read_csv(r'\\Data Analytics - Project\\train_transaction.csv')"
   ]
  },
  {
   "cell_type": "code",
   "execution_count": 3,
   "metadata": {
    "colab": {},
    "colab_type": "code",
    "id": "Hw2uZoynQjob"
   },
   "outputs": [],
   "source": [
    "#Merging the files of training data on the basis of column TransactionId\n",
    "train_df = pd.merge(train_tr,train_id, on = 'TransactionID', how='left', left_index=True, right_index=True)"
   ]
  },
  {
   "cell_type": "code",
   "execution_count": 4,
   "metadata": {
    "colab": {},
    "colab_type": "code",
    "id": "71hwDU_MQjod"
   },
   "outputs": [
    {
     "data": {
      "text/html": [
       "<div>\n",
       "<style scoped>\n",
       "    .dataframe tbody tr th:only-of-type {\n",
       "        vertical-align: middle;\n",
       "    }\n",
       "\n",
       "    .dataframe tbody tr th {\n",
       "        vertical-align: top;\n",
       "    }\n",
       "\n",
       "    .dataframe thead th {\n",
       "        text-align: right;\n",
       "    }\n",
       "</style>\n",
       "<table border=\"1\" class=\"dataframe\">\n",
       "  <thead>\n",
       "    <tr style=\"text-align: right;\">\n",
       "      <th></th>\n",
       "      <th>TransactionID</th>\n",
       "      <th>isFraud</th>\n",
       "      <th>TransactionDT</th>\n",
       "      <th>TransactionAmt</th>\n",
       "      <th>ProductCD</th>\n",
       "      <th>card1</th>\n",
       "      <th>card2</th>\n",
       "      <th>card3</th>\n",
       "      <th>card4</th>\n",
       "      <th>card5</th>\n",
       "      <th>...</th>\n",
       "      <th>id_31</th>\n",
       "      <th>id_32</th>\n",
       "      <th>id_33</th>\n",
       "      <th>id_34</th>\n",
       "      <th>id_35</th>\n",
       "      <th>id_36</th>\n",
       "      <th>id_37</th>\n",
       "      <th>id_38</th>\n",
       "      <th>DeviceType</th>\n",
       "      <th>DeviceInfo</th>\n",
       "    </tr>\n",
       "  </thead>\n",
       "  <tbody>\n",
       "    <tr>\n",
       "      <td>0</td>\n",
       "      <td>2987000</td>\n",
       "      <td>0</td>\n",
       "      <td>86400</td>\n",
       "      <td>68.5</td>\n",
       "      <td>W</td>\n",
       "      <td>13926</td>\n",
       "      <td>NaN</td>\n",
       "      <td>150.0</td>\n",
       "      <td>discover</td>\n",
       "      <td>142.0</td>\n",
       "      <td>...</td>\n",
       "      <td>samsung browser 6.2</td>\n",
       "      <td>32.0</td>\n",
       "      <td>2220x1080</td>\n",
       "      <td>match_status:2</td>\n",
       "      <td>T</td>\n",
       "      <td>F</td>\n",
       "      <td>T</td>\n",
       "      <td>T</td>\n",
       "      <td>mobile</td>\n",
       "      <td>SAMSUNG SM-G892A Build/NRD90M</td>\n",
       "    </tr>\n",
       "    <tr>\n",
       "      <td>1</td>\n",
       "      <td>2987001</td>\n",
       "      <td>0</td>\n",
       "      <td>86401</td>\n",
       "      <td>29.0</td>\n",
       "      <td>W</td>\n",
       "      <td>2755</td>\n",
       "      <td>404.0</td>\n",
       "      <td>150.0</td>\n",
       "      <td>mastercard</td>\n",
       "      <td>102.0</td>\n",
       "      <td>...</td>\n",
       "      <td>mobile safari 11.0</td>\n",
       "      <td>32.0</td>\n",
       "      <td>1334x750</td>\n",
       "      <td>match_status:1</td>\n",
       "      <td>T</td>\n",
       "      <td>F</td>\n",
       "      <td>F</td>\n",
       "      <td>T</td>\n",
       "      <td>mobile</td>\n",
       "      <td>iOS Device</td>\n",
       "    </tr>\n",
       "    <tr>\n",
       "      <td>2</td>\n",
       "      <td>2987002</td>\n",
       "      <td>0</td>\n",
       "      <td>86469</td>\n",
       "      <td>59.0</td>\n",
       "      <td>W</td>\n",
       "      <td>4663</td>\n",
       "      <td>490.0</td>\n",
       "      <td>150.0</td>\n",
       "      <td>visa</td>\n",
       "      <td>166.0</td>\n",
       "      <td>...</td>\n",
       "      <td>chrome 62.0</td>\n",
       "      <td>NaN</td>\n",
       "      <td>NaN</td>\n",
       "      <td>NaN</td>\n",
       "      <td>F</td>\n",
       "      <td>F</td>\n",
       "      <td>T</td>\n",
       "      <td>T</td>\n",
       "      <td>desktop</td>\n",
       "      <td>Windows</td>\n",
       "    </tr>\n",
       "    <tr>\n",
       "      <td>3</td>\n",
       "      <td>2987003</td>\n",
       "      <td>0</td>\n",
       "      <td>86499</td>\n",
       "      <td>50.0</td>\n",
       "      <td>W</td>\n",
       "      <td>18132</td>\n",
       "      <td>567.0</td>\n",
       "      <td>150.0</td>\n",
       "      <td>mastercard</td>\n",
       "      <td>117.0</td>\n",
       "      <td>...</td>\n",
       "      <td>chrome 62.0</td>\n",
       "      <td>NaN</td>\n",
       "      <td>NaN</td>\n",
       "      <td>NaN</td>\n",
       "      <td>F</td>\n",
       "      <td>F</td>\n",
       "      <td>T</td>\n",
       "      <td>T</td>\n",
       "      <td>desktop</td>\n",
       "      <td>NaN</td>\n",
       "    </tr>\n",
       "    <tr>\n",
       "      <td>4</td>\n",
       "      <td>2987004</td>\n",
       "      <td>0</td>\n",
       "      <td>86506</td>\n",
       "      <td>50.0</td>\n",
       "      <td>H</td>\n",
       "      <td>4497</td>\n",
       "      <td>514.0</td>\n",
       "      <td>150.0</td>\n",
       "      <td>mastercard</td>\n",
       "      <td>102.0</td>\n",
       "      <td>...</td>\n",
       "      <td>chrome 62.0</td>\n",
       "      <td>24.0</td>\n",
       "      <td>1280x800</td>\n",
       "      <td>match_status:2</td>\n",
       "      <td>T</td>\n",
       "      <td>F</td>\n",
       "      <td>T</td>\n",
       "      <td>T</td>\n",
       "      <td>desktop</td>\n",
       "      <td>MacOS</td>\n",
       "    </tr>\n",
       "  </tbody>\n",
       "</table>\n",
       "<p>5 rows × 434 columns</p>\n",
       "</div>"
      ],
      "text/plain": [
       "   TransactionID  isFraud  TransactionDT  TransactionAmt ProductCD  card1  \\\n",
       "0        2987000        0          86400            68.5         W  13926   \n",
       "1        2987001        0          86401            29.0         W   2755   \n",
       "2        2987002        0          86469            59.0         W   4663   \n",
       "3        2987003        0          86499            50.0         W  18132   \n",
       "4        2987004        0          86506            50.0         H   4497   \n",
       "\n",
       "   card2  card3       card4  card5  ...                id_31  id_32  \\\n",
       "0    NaN  150.0    discover  142.0  ...  samsung browser 6.2   32.0   \n",
       "1  404.0  150.0  mastercard  102.0  ...   mobile safari 11.0   32.0   \n",
       "2  490.0  150.0        visa  166.0  ...          chrome 62.0    NaN   \n",
       "3  567.0  150.0  mastercard  117.0  ...          chrome 62.0    NaN   \n",
       "4  514.0  150.0  mastercard  102.0  ...          chrome 62.0   24.0   \n",
       "\n",
       "       id_33           id_34  id_35 id_36 id_37  id_38  DeviceType  \\\n",
       "0  2220x1080  match_status:2      T     F     T      T      mobile   \n",
       "1   1334x750  match_status:1      T     F     F      T      mobile   \n",
       "2        NaN             NaN      F     F     T      T     desktop   \n",
       "3        NaN             NaN      F     F     T      T     desktop   \n",
       "4   1280x800  match_status:2      T     F     T      T     desktop   \n",
       "\n",
       "                      DeviceInfo  \n",
       "0  SAMSUNG SM-G892A Build/NRD90M  \n",
       "1                     iOS Device  \n",
       "2                        Windows  \n",
       "3                            NaN  \n",
       "4                          MacOS  \n",
       "\n",
       "[5 rows x 434 columns]"
      ]
     },
     "execution_count": 4,
     "metadata": {},
     "output_type": "execute_result"
    }
   ],
   "source": [
    "train_df.head()"
   ]
  },
  {
   "cell_type": "markdown",
   "metadata": {},
   "source": [
    "### Functions"
   ]
  },
  {
   "cell_type": "code",
   "execution_count": 5,
   "metadata": {
    "colab": {},
    "colab_type": "code",
    "id": "EMLqeBUhUerc"
   },
   "outputs": [],
   "source": [
    "def missing_value(df_table):\n",
    "  total_missing_values = df_table.isna().sum()\n",
    "  missing_value_percentage = 100 * total_missing_values/ len(df_table)\n",
    "  missing_table = pd.concat([total_missing_values, missing_value_percentage], axis=1)\n",
    "  missing_table_col = missing_table.rename(columns = {0: 'Missing Values', 1: 'Percentage of missing'})\n",
    "  missing_table_col = missing_table_col[missing_table_col.iloc[:, 1] != 0].sort_values('Percentage of missing', ascending=False).round(2)\n",
    "  #print(total_missing_Values)\n",
    "  return missing_table_col\n",
    "\n",
    "def int_min(param):\n",
    "    return np.iinfo(param).min\n",
    "\n",
    "def int_max(param):\n",
    "    return np.iinfo(param).max\n",
    "\n",
    "def flo_min(param):\n",
    "    return np.finfo(param).min\n",
    "\n",
    "def flo_max(param):\n",
    "    return np.finfo(param).max\n",
    "\n",
    "def decrease_mem(in_table, verbose = True):\n",
    "    data_types = ['int16', 'int32', 'int64', 'float16', 'float32', 'float64']\n",
    "    initial_mem_val = in_table.memory_usage().sum() / 2**20 #Calculate memory usage of complete column \n",
    "                                                            #and dividng it by 2^20 to convert it into Mb    \n",
    "    for c in in_table.columns:\n",
    "        column_type = in_table[c].dtypes\n",
    "        if column_type in data_types:\n",
    "            min_val = in_table[c].min()\n",
    "            max_val = in_table[c].max()\n",
    "            if str(column_type)[:3] == 'int':\n",
    "                if min_val > int_min(np.int8) and max_val < int_max(np.int8): #calling another fn int_min & int_max\n",
    "                    in_table[c] = in_table[c].astype(np.int8)\n",
    "                elif min_val > int_min(np.int16) and max_val < int_max(np.int16):\n",
    "                    in_table[c] = in_table[c].astype(np.int16)\n",
    "                elif min_val > int_min(np.int32) and max_val < int_max(np.int32):\n",
    "                    in_table[c] = in_table[c].astype(np.int32)\n",
    "                elif min_val > int_min(np.int64) and max_val < int_max(np.int64):\n",
    "                    in_table[c] = in_table[c].astype(np.int64)  \n",
    "            elif min_val > flo_min(np.float16) and max_val < flo_max(np.float16):\n",
    "                    in_table[c] = in_table[c].astype(np.float16)\n",
    "            elif min_val > flo_min(np.float32) and max_val < flo_max(np.float32):\n",
    "                    in_table[c] = in_table[c].astype(np.float32)\n",
    "            else: in_table[c] = in_table[c].astype(np.float64)\n",
    "                \n",
    "    mem_aftr_ops = in_table.memory_usage().sum() / 2**20\n",
    "    if verbose: print('Mem. usage decreased to {:5.2f} Mb ({:.1f}% reduction)'.\n",
    "          format(mem_aftr_ops, ((initial_mem_val - mem_aftr_ops) / initial_mem_val)* 100))\n",
    "    return in_table\n",
    "\n",
    "def remove_outliers(df_table, df_col, Q1, Q3):\n",
    "  first_quantile = df_col.quantile(Q1)\n",
    "  third_quantile = df_col.quantile(Q3)\n",
    "  IQR = third_quantile - first_quantile\n",
    "  rem_out = df_table[~((df_col < (first_quantile - 1.5*IQR)) | (df_col > (third_quantile + 1.5*IQR)))]\n",
    "  \n",
    "  return rem_out\n",
    "\n",
    "def EDA(df_table):\n",
    "    summ = pd.DataFrame(df.dtypes, Columns='Data Type')\n",
    "    summ = summ.reset_index\n",
    "    summ['Name'] = summ['index']\n",
    "    summ = summ[['Name', 'Data Type']]\n",
    "    summ['Missing Values'] = df_table.isnull().sum()\n",
    "    summ['Unique'] = df_table.nunique().values\n",
    "    \n",
    "    for name in summ['Name'].value_counts().index:\n",
    "        summ.loc[summ['Name'] == name, 'Entropy'] = round(stats.entropy(df_table[name].value_counts(normalize=True), base=2),2)\n",
    "    return"
   ]
  },
  {
   "cell_type": "code",
   "execution_count": 6,
   "metadata": {
    "colab": {
     "base_uri": "https://localhost:8080/",
     "height": 35
    },
    "colab_type": "code",
    "executionInfo": {
     "elapsed": 1424,
     "status": "ok",
     "timestamp": 1574715197493,
     "user": {
      "displayName": "anubhav bhatti",
      "photoUrl": "",
      "userId": "04278121675242864828"
     },
     "user_tz": 300
    },
    "id": "3WI_bt4RQjop",
    "outputId": "59752501-7bd7-49e9-ba0f-bee5bd99cb4f"
   },
   "outputs": [
    {
     "data": {
      "text/plain": [
       "35"
      ]
     },
     "execution_count": 6,
     "metadata": {},
     "output_type": "execute_result"
    }
   ],
   "source": [
    "#cleans the garbage value\n",
    "del train_tr, train_id\n",
    "gc.collect()"
   ]
  },
  {
   "cell_type": "code",
   "execution_count": 7,
   "metadata": {
    "colab": {
     "base_uri": "https://localhost:8080/",
     "height": 87
    },
    "colab_type": "code",
    "executionInfo": {
     "elapsed": 105639,
     "status": "ok",
     "timestamp": 1574715641121,
     "user": {
      "displayName": "anubhav bhatti",
      "photoUrl": "",
      "userId": "04278121675242864828"
     },
     "user_tz": 300
    },
    "id": "gSUR3hYuQjor",
    "outputId": "ccb6cb5e-d9ac-4f41-8b7d-4d19453c85e9"
   },
   "outputs": [
    {
     "name": "stdout",
     "output_type": "stream",
     "text": [
      "Mem. usage decreased to 645.97 Mb (67.0% reduction)\n",
      "Size of training dataset: (590540, 434)\n"
     ]
    }
   ],
   "source": [
    "#reducing the memory usage for train\n",
    "train_df = decrease_mem(train_df)\n",
    "print('Size of training dataset:', train_df.shape)"
   ]
  },
  {
   "cell_type": "code",
   "execution_count": 8,
   "metadata": {
    "colab": {},
    "colab_type": "code",
    "id": "tubU6IrrQjot",
    "outputId": "b67ee0cf-6421-4644-a791-ce649aa8d330"
   },
   "outputs": [
    {
     "data": {
      "image/png": "[encoded data removed]",
      "text/plain": [
       "<Figure size 432x288 with 1 Axes>"
      ]
     },
     "metadata": {
      "needs_background": "light"
     },
     "output_type": "display_data"
    }
   ],
   "source": [
    "#checking imbalance data in training dataset\n",
    "sns.countplot(train_df['isFraud'], palette=\"coolwarm_r\")\n",
    "plt.show()"
   ]
  },
  {
   "cell_type": "code",
   "execution_count": 9,
   "metadata": {
    "colab": {},
    "colab_type": "code",
    "id": "6G19yFCpQjo5"
   },
   "outputs": [],
   "source": [
    "#Timeseries split in hours and day (TransactionDT given in seconds)\n",
    "train_df['day'] = (train_df['TransactionDT']//(3600*24)-1)%7"
   ]
  },
  {
   "cell_type": "code",
   "execution_count": 10,
   "metadata": {
    "colab": {},
    "colab_type": "code",
    "id": "1EQYALtPQjpG"
   },
   "outputs": [],
   "source": [
    "#Splitting on the basis of hours\n",
    "train_df['hour'] = (train_df['TransactionDT']//(3600))%24"
   ]
  },
  {
   "cell_type": "code",
   "execution_count": 11,
   "metadata": {
    "colab": {},
    "colab_type": "code",
    "id": "wqEaLDeaQjpT"
   },
   "outputs": [],
   "source": [
    "#Creating new feature on the basis of above analysis\n",
    "def hourFeature(hour):\n",
    "    if hour>3 and hour < 10:\n",
    "        return \"Alert\"\n",
    "    if hour ==10 or hour==17:\n",
    "        return \"Warning\"\n",
    "    if hour==2 or hour==3 or hour==18 or hour==23:\n",
    "        return \"Caution\"\n",
    "    else:\n",
    "        return \"Safe\""
   ]
  },
  {
   "cell_type": "code",
   "execution_count": 12,
   "metadata": {
    "colab": {},
    "colab_type": "code",
    "id": "mwXfCSw9QjpW"
   },
   "outputs": [],
   "source": [
    "#Creating new attribute\n",
    "train_df['Check'] = train_df['hour'].apply(hourFeature)"
   ]
  },
  {
   "cell_type": "code",
   "execution_count": 13,
   "metadata": {
    "colab": {},
    "colab_type": "code",
    "id": "L4pAxNKXQjpj",
    "outputId": "4ee45b8d-8d5e-4583-8997-18639fe74d49",
    "scrolled": true
   },
   "outputs": [
    {
     "data": {
      "text/html": [
       "<div>\n",
       "<style scoped>\n",
       "    .dataframe tbody tr th:only-of-type {\n",
       "        vertical-align: middle;\n",
       "    }\n",
       "\n",
       "    .dataframe tbody tr th {\n",
       "        vertical-align: top;\n",
       "    }\n",
       "\n",
       "    .dataframe thead th {\n",
       "        text-align: right;\n",
       "    }\n",
       "</style>\n",
       "<table border=\"1\" class=\"dataframe\">\n",
       "  <thead>\n",
       "    <tr style=\"text-align: right;\">\n",
       "      <th></th>\n",
       "      <th>TransactionID</th>\n",
       "      <th>isFraud</th>\n",
       "      <th>TransactionDT</th>\n",
       "      <th>TransactionAmt</th>\n",
       "      <th>ProductCD</th>\n",
       "      <th>card1</th>\n",
       "      <th>card2</th>\n",
       "      <th>card3</th>\n",
       "      <th>card4</th>\n",
       "      <th>card5</th>\n",
       "      <th>...</th>\n",
       "      <th>id_34</th>\n",
       "      <th>id_35</th>\n",
       "      <th>id_36</th>\n",
       "      <th>id_37</th>\n",
       "      <th>id_38</th>\n",
       "      <th>DeviceType</th>\n",
       "      <th>DeviceInfo</th>\n",
       "      <th>day</th>\n",
       "      <th>hour</th>\n",
       "      <th>Check</th>\n",
       "    </tr>\n",
       "  </thead>\n",
       "  <tbody>\n",
       "    <tr>\n",
       "      <td>274336</td>\n",
       "      <td>3261336</td>\n",
       "      <td>0</td>\n",
       "      <td>6652360</td>\n",
       "      <td>31936.0</td>\n",
       "      <td>W</td>\n",
       "      <td>16075</td>\n",
       "      <td>514.0</td>\n",
       "      <td>150.0</td>\n",
       "      <td>mastercard</td>\n",
       "      <td>102.0</td>\n",
       "      <td>...</td>\n",
       "      <td>NaN</td>\n",
       "      <td>NaN</td>\n",
       "      <td>NaN</td>\n",
       "      <td>NaN</td>\n",
       "      <td>NaN</td>\n",
       "      <td>NaN</td>\n",
       "      <td>NaN</td>\n",
       "      <td>5</td>\n",
       "      <td>23</td>\n",
       "      <td>Caution</td>\n",
       "    </tr>\n",
       "    <tr>\n",
       "      <td>274339</td>\n",
       "      <td>3261339</td>\n",
       "      <td>0</td>\n",
       "      <td>6652391</td>\n",
       "      <td>31936.0</td>\n",
       "      <td>W</td>\n",
       "      <td>16075</td>\n",
       "      <td>514.0</td>\n",
       "      <td>150.0</td>\n",
       "      <td>mastercard</td>\n",
       "      <td>102.0</td>\n",
       "      <td>...</td>\n",
       "      <td>NaN</td>\n",
       "      <td>NaN</td>\n",
       "      <td>NaN</td>\n",
       "      <td>NaN</td>\n",
       "      <td>NaN</td>\n",
       "      <td>NaN</td>\n",
       "      <td>NaN</td>\n",
       "      <td>5</td>\n",
       "      <td>23</td>\n",
       "      <td>Caution</td>\n",
       "    </tr>\n",
       "  </tbody>\n",
       "</table>\n",
       "<p>2 rows × 437 columns</p>\n",
       "</div>"
      ],
      "text/plain": [
       "        TransactionID  isFraud  TransactionDT  TransactionAmt ProductCD  \\\n",
       "274336        3261336        0        6652360         31936.0         W   \n",
       "274339        3261339        0        6652391         31936.0         W   \n",
       "\n",
       "        card1  card2  card3       card4  card5  ... id_34  id_35  id_36  \\\n",
       "274336  16075  514.0  150.0  mastercard  102.0  ...   NaN    NaN    NaN   \n",
       "274339  16075  514.0  150.0  mastercard  102.0  ...   NaN    NaN    NaN   \n",
       "\n",
       "        id_37  id_38 DeviceType DeviceInfo  day  hour    Check  \n",
       "274336    NaN    NaN        NaN        NaN    5    23  Caution  \n",
       "274339    NaN    NaN        NaN        NaN    5    23  Caution  \n",
       "\n",
       "[2 rows x 437 columns]"
      ]
     },
     "execution_count": 13,
     "metadata": {},
     "output_type": "execute_result"
    }
   ],
   "source": [
    "#checking how many values are there above 10000 in TransactionAmt\n",
    "\n",
    "train_df[train_df['TransactionAmt'] > 10000]"
   ]
  },
  {
   "cell_type": "code",
   "execution_count": 14,
   "metadata": {
    "colab": {},
    "colab_type": "code",
    "id": "Hl39mfL7Qjpm"
   },
   "outputs": [],
   "source": [
    "#only 2 values are present above 10000 and we can remove it since they are duplicates"
   ]
  },
  {
   "cell_type": "code",
   "execution_count": 15,
   "metadata": {
    "colab": {},
    "colab_type": "code",
    "id": "h9vPps3PQjpo"
   },
   "outputs": [],
   "source": [
    "#Working on values which are less than 10000\n",
    "train_df = train_df[train_df['TransactionAmt'] < 10000]\n",
    "#Taking logs and creating new feature because some values are high\n",
    "train_df['LogTrAmt'] = np.log(train_df['TransactionAmt'])"
   ]
  },
  {
   "cell_type": "code",
   "execution_count": 16,
   "metadata": {
    "colab": {},
    "colab_type": "code",
    "id": "ag8iKKPYQjqF"
   },
   "outputs": [],
   "source": [
    "def determine_cd3(value):\n",
    "    if value==np.nan:\n",
    "        return value\n",
    "    else:\n",
    "        if value > 150:\n",
    "            return 'NF'\n",
    "        else:\n",
    "            return 'F'"
   ]
  },
  {
   "cell_type": "code",
   "execution_count": 17,
   "metadata": {
    "colab": {},
    "colab_type": "code",
    "id": "ZdzWcSG-QjqH"
   },
   "outputs": [],
   "source": [
    "#Adding attribute\n",
    "train_df['Card3parameter'] = train_df['card3'].apply(determine_cd3)"
   ]
  },
  {
   "cell_type": "code",
   "execution_count": 18,
   "metadata": {
    "colab": {},
    "colab_type": "code",
    "id": "L_-4_p_oQjqR"
   },
   "outputs": [],
   "source": [
    "#Creating new attribute \n",
    "def replace(value):\n",
    "    if value==np.nan:\n",
    "        return value\n",
    "    if value=='debit or credit' or value=='charge card':\n",
    "        return 'Other'\n",
    "    else:\n",
    "        return value"
   ]
  },
  {
   "cell_type": "code",
   "execution_count": 19,
   "metadata": {
    "colab": {},
    "colab_type": "code",
    "id": "WS0LuKsXQjqS"
   },
   "outputs": [],
   "source": [
    "train_df['card6'] = train_df['card6'].apply(replace)"
   ]
  },
  {
   "cell_type": "code",
   "execution_count": 20,
   "metadata": {
    "colab": {},
    "colab_type": "code",
    "id": "-lMvCgIjQjrT"
   },
   "outputs": [],
   "source": [
    "train_df = train_df[train_df['C1'] <= 2000]"
   ]
  },
  {
   "cell_type": "code",
   "execution_count": 21,
   "metadata": {
    "colab": {},
    "colab_type": "code",
    "id": "sbJpM03qQjrc"
   },
   "outputs": [],
   "source": [
    "#outliers above 2000\n",
    "train_df = train_df[train_df['C2'] <= 2000]"
   ]
  },
  {
   "cell_type": "code",
   "execution_count": 22,
   "metadata": {},
   "outputs": [],
   "source": [
    "#removing negative values from D-attributes because D-attributes are related to the \n",
    "#time-delta specifying the days between the previous transaction; hence, can not be negative"
   ]
  },
  {
   "cell_type": "code",
   "execution_count": 23,
   "metadata": {},
   "outputs": [],
   "source": [
    "train_df.drop(train_df[train_df['D4'] < 0].index, inplace = True)"
   ]
  },
  {
   "cell_type": "code",
   "execution_count": 24,
   "metadata": {
    "colab": {},
    "colab_type": "code",
    "id": "PGszNsuBQjsY",
    "outputId": "6e8e4c78-8918-4928-ecce-f54eab455333"
   },
   "outputs": [],
   "source": [
    "train_df.drop(train_df[train_df['D11'] < 0].index, inplace = True)"
   ]
  },
  {
   "cell_type": "code",
   "execution_count": 25,
   "metadata": {
    "colab": {},
    "colab_type": "code",
    "id": "PzxvI0p0Qjsq",
    "outputId": "872d183b-6d88-4649-fdcf-a71f6397a3c0"
   },
   "outputs": [],
   "source": [
    "train_df.drop(train_df[train_df['D14'] < 0].index, inplace = True)"
   ]
  },
  {
   "cell_type": "code",
   "execution_count": 26,
   "metadata": {
    "colab": {},
    "colab_type": "code",
    "id": "yA8PZAjAQjs2",
    "outputId": "a712555d-551e-4551-8c95-b90516171a61"
   },
   "outputs": [],
   "source": [
    "train_df.drop(train_df[train_df['D15'] < 0].index, inplace = True)"
   ]
  },
  {
   "cell_type": "code",
   "execution_count": 27,
   "metadata": {
    "colab": {},
    "colab_type": "code",
    "id": "4fRwd7xVQjtA"
   },
   "outputs": [],
   "source": [
    "#Grouping similar types of phone model together\n",
    "\n",
    "def group_DeviceInfo(di):\n",
    "    di['DeviceName'] = di['DeviceInfo']\n",
    "    di.loc[di['DeviceInfo'].str.contains('HUAWEI|HONOR', case=False, na=False, regex=True), 'DeviceName'] = 'HUAWEI'\n",
    "    di.loc[di['DeviceInfo'].str.contains('OS', na=False, regex=False), 'DeviceName'] = 'APPLE'\n",
    "    di.loc[di['DeviceInfo'].str.contains('Idea|TA', case=False, na=False), 'DeviceName'] = 'Lenovo'\n",
    "    di.loc[di['DeviceInfo'].str.contains('Moto|XT|Edison', case=False, na=False), 'DeviceName'] = 'Moto'\n",
    "    di.loc[di['DeviceInfo'].str.contains('MI|Mi|Redmi', na=False), 'DeviceName'] = 'Mi'\n",
    "    di.loc[di['DeviceInfo'].str.contains('VS|LG|EGO', na=False), 'DeviceName'] = 'LG'\n",
    "    di.loc[di['DeviceInfo'].str.contains('ONE TOUCH|ALCATEL', case=False, na=False, regex=False), 'DeviceName'] = 'ALCATEL'\n",
    "    di.loc[di['DeviceInfo'].str.contains('ONE A', na=False, regex=False), 'DeviceName'] = 'ONEPLUS'\n",
    "    di.loc[di['DeviceInfo'].str.contains('OPR6', na=False, regex=False), 'DeviceName'] = 'HTC'\n",
    "    di.loc[di['DeviceInfo'].str.contains('Nexus|Pixel', case=False, na=False, regex=True), 'DeviceName'] = 'google'\n",
    "    di.loc[di['DeviceInfo'].str.contains('STV', na=False, regex=False), 'DeviceName'] = 'blackberry'\n",
    "    di.loc[di['DeviceInfo'].str.contains('ASUS', case=False, na=False, regex=False), 'DeviceName'] = 'ASUS'\n",
    "    di.loc[di['DeviceInfo'].str.contains('BLADE', case=False, na=False, regex=False), 'DeviceName'] = 'ZTE'\n",
    "    \n",
    "    di['DeviceName'] = di['DeviceInfo'].astype('str').str.split(':', expand=True)[0].\\\n",
    "                                str.split('-', expand=True)[0].str.split(expand=True)[0]\n",
    "    \n",
    "    di.loc[di['DeviceInfo'].isin(['rv', 'SM', 'GT', 'SGH']), 'DeviceName'] = 'SAMSUNG'\n",
    "    di.loc[di['DeviceInfo'].str.startswith('Z', na=False), 'DeviceName'] = 'ZTE'\n",
    "    di.loc[di['DeviceInfo'].str.startswith('KF', na=False), 'DeviceName'] = 'Amazon'\n",
    "    \n",
    "    for i in ['D', 'E', 'F', 'G']:\n",
    "        di.loc[di['DeviceInfo'].str.startswith(i, na=False), 'DeviceName'] = 'SONY'\n",
    "\n",
    "    di.loc[di['DeviceName'].isin(di['DeviceName'].value_counts()\\\n",
    "                                 [di['DeviceName'].value_counts() < 100].index), 'DeviceName'] = 'Others'\n",
    "    di['DeviceName'] = di['DeviceName'].str.upper()\n",
    "    \n",
    "    return di"
   ]
  },
  {
   "cell_type": "code",
   "execution_count": 28,
   "metadata": {
    "colab": {},
    "colab_type": "code",
    "id": "JUBQyWB3QjtB"
   },
   "outputs": [],
   "source": [
    "train_df = group_DeviceInfo(train_df)"
   ]
  },
  {
   "cell_type": "code",
   "execution_count": 29,
   "metadata": {
    "colab": {},
    "colab_type": "code",
    "id": "FfMbwdsOQjtB"
   },
   "outputs": [],
   "source": [
    "def setNaNvalue(value):\n",
    "    if value=='NAN':\n",
    "        return np.nan\n",
    "    else:\n",
    "        return value"
   ]
  },
  {
   "cell_type": "code",
   "execution_count": 30,
   "metadata": {
    "colab": {},
    "colab_type": "code",
    "id": "tjNraOgpQjtC"
   },
   "outputs": [],
   "source": [
    "train_df['DeviceName'] = train_df['DeviceName'].apply(setNaNvalue)"
   ]
  },
  {
   "cell_type": "code",
   "execution_count": 31,
   "metadata": {},
   "outputs": [
    {
     "data": {
      "text/plain": [
       "0         SAMSUNG\n",
       "1             IOS\n",
       "2         WINDOWS\n",
       "3             NaN\n",
       "4           MACOS\n",
       "           ...   \n",
       "590535        NaN\n",
       "590536        NaN\n",
       "590537        NaN\n",
       "590538        NaN\n",
       "590539        NaN\n",
       "Name: DeviceName, Length: 589693, dtype: object"
      ]
     },
     "execution_count": 31,
     "metadata": {},
     "output_type": "execute_result"
    }
   ],
   "source": [
    "train_df['DeviceName']"
   ]
  },
  {
   "cell_type": "code",
   "execution_count": 32,
   "metadata": {},
   "outputs": [],
   "source": [
    "cols_to_drop_id = ['id_01','id_02','id_03','id_04','id_05','id_06','id_10','id_11',\n",
    "             'id_13','id_14','id_17','id_19','id_32', 'P_emaildomain','R_emaildomain','id_07','id_08',\n",
    "                   'id_09','id_12','id_15','id_16','id_18','id_20','id_21','id_22','id_23','id_24','id_25','id_26',\n",
    "                   'id_28','id_29','id_30','id_31','id_33','id_34','id_35','id_36','id_37', 'id_38', 'DeviceInfo']\n",
    "\n",
    "train_df = train_df.drop(cols_to_drop_id, axis=1)     "
   ]
  },
  {
   "cell_type": "code",
   "execution_count": 33,
   "metadata": {},
   "outputs": [],
   "source": [
    "#Applying Label Encoding\n",
    "\n",
    "for i in ['card4', 'hour', 'card6','M1','M2','M3','M4','M5','M6','M7','M8','M9','ProductCD', \n",
    "          'DeviceType', 'DeviceName', 'Check']:\n",
    "    le = LabelEncoder()\n",
    "    le.fit(list(train_df[i].astype(str).values))\n",
    "    train_df[i] = le.transform(list(train_df[i].astype(str).values))"
   ]
  },
  {
   "cell_type": "code",
   "execution_count": 34,
   "metadata": {},
   "outputs": [],
   "source": [
    "one_value_cols = [col for col in train_df.columns if train_df[col].nunique() <= 1]\n",
    "many_null_cols = [col for col in train_df.columns if train_df[col].isnull().sum() / train_df.shape[0] > 0.9]\n",
    "big_top_value_cols = [col for col in train_df.columns if\n",
    "                      train_df[col].value_counts(dropna=False, normalize=True).values[0] > 0.9]\n",
    "cols_to_drop = list(set(many_null_cols + big_top_value_cols + one_value_cols))\n",
    "cols_to_drop.remove('isFraud')\n",
    "train_df = train_df.drop(cols_to_drop, axis=1)\n",
    "train_df.fillna(-1, inplace=True)"
   ]
  },
  {
   "cell_type": "code",
   "execution_count": 35,
   "metadata": {},
   "outputs": [
    {
     "data": {
      "text/html": [
       "<div>\n",
       "<style scoped>\n",
       "    .dataframe tbody tr th:only-of-type {\n",
       "        vertical-align: middle;\n",
       "    }\n",
       "\n",
       "    .dataframe tbody tr th {\n",
       "        vertical-align: top;\n",
       "    }\n",
       "\n",
       "    .dataframe thead th {\n",
       "        text-align: right;\n",
       "    }\n",
       "</style>\n",
       "<table border=\"1\" class=\"dataframe\">\n",
       "  <thead>\n",
       "    <tr style=\"text-align: right;\">\n",
       "      <th></th>\n",
       "      <th>TransactionID</th>\n",
       "      <th>isFraud</th>\n",
       "      <th>TransactionDT</th>\n",
       "      <th>TransactionAmt</th>\n",
       "      <th>ProductCD</th>\n",
       "      <th>card1</th>\n",
       "      <th>card2</th>\n",
       "      <th>card3</th>\n",
       "      <th>card4</th>\n",
       "      <th>card5</th>\n",
       "      <th>...</th>\n",
       "      <th>V336</th>\n",
       "      <th>V337</th>\n",
       "      <th>V338</th>\n",
       "      <th>V339</th>\n",
       "      <th>DeviceType</th>\n",
       "      <th>day</th>\n",
       "      <th>hour</th>\n",
       "      <th>Check</th>\n",
       "      <th>LogTrAmt</th>\n",
       "      <th>DeviceName</th>\n",
       "    </tr>\n",
       "  </thead>\n",
       "  <tbody>\n",
       "    <tr>\n",
       "      <td>0</td>\n",
       "      <td>2987000</td>\n",
       "      <td>0</td>\n",
       "      <td>86400</td>\n",
       "      <td>68.500000</td>\n",
       "      <td>4</td>\n",
       "      <td>13926</td>\n",
       "      <td>-1.0</td>\n",
       "      <td>150.0</td>\n",
       "      <td>1</td>\n",
       "      <td>142.0</td>\n",
       "      <td>...</td>\n",
       "      <td>-1.0</td>\n",
       "      <td>-1.0</td>\n",
       "      <td>-1.0</td>\n",
       "      <td>-1.0</td>\n",
       "      <td>1</td>\n",
       "      <td>0</td>\n",
       "      <td>0</td>\n",
       "      <td>2</td>\n",
       "      <td>4.226562</td>\n",
       "      <td>23</td>\n",
       "    </tr>\n",
       "    <tr>\n",
       "      <td>1</td>\n",
       "      <td>2987001</td>\n",
       "      <td>0</td>\n",
       "      <td>86401</td>\n",
       "      <td>29.000000</td>\n",
       "      <td>4</td>\n",
       "      <td>2755</td>\n",
       "      <td>404.0</td>\n",
       "      <td>150.0</td>\n",
       "      <td>2</td>\n",
       "      <td>102.0</td>\n",
       "      <td>...</td>\n",
       "      <td>-1.0</td>\n",
       "      <td>-1.0</td>\n",
       "      <td>-1.0</td>\n",
       "      <td>-1.0</td>\n",
       "      <td>1</td>\n",
       "      <td>0</td>\n",
       "      <td>0</td>\n",
       "      <td>2</td>\n",
       "      <td>3.367188</td>\n",
       "      <td>9</td>\n",
       "    </tr>\n",
       "    <tr>\n",
       "      <td>2</td>\n",
       "      <td>2987002</td>\n",
       "      <td>0</td>\n",
       "      <td>86469</td>\n",
       "      <td>59.000000</td>\n",
       "      <td>4</td>\n",
       "      <td>4663</td>\n",
       "      <td>490.0</td>\n",
       "      <td>150.0</td>\n",
       "      <td>4</td>\n",
       "      <td>166.0</td>\n",
       "      <td>...</td>\n",
       "      <td>-1.0</td>\n",
       "      <td>-1.0</td>\n",
       "      <td>-1.0</td>\n",
       "      <td>-1.0</td>\n",
       "      <td>0</td>\n",
       "      <td>0</td>\n",
       "      <td>0</td>\n",
       "      <td>2</td>\n",
       "      <td>4.078125</td>\n",
       "      <td>30</td>\n",
       "    </tr>\n",
       "    <tr>\n",
       "      <td>3</td>\n",
       "      <td>2987003</td>\n",
       "      <td>0</td>\n",
       "      <td>86499</td>\n",
       "      <td>50.000000</td>\n",
       "      <td>4</td>\n",
       "      <td>18132</td>\n",
       "      <td>567.0</td>\n",
       "      <td>150.0</td>\n",
       "      <td>2</td>\n",
       "      <td>117.0</td>\n",
       "      <td>...</td>\n",
       "      <td>-1.0</td>\n",
       "      <td>-1.0</td>\n",
       "      <td>-1.0</td>\n",
       "      <td>-1.0</td>\n",
       "      <td>0</td>\n",
       "      <td>0</td>\n",
       "      <td>0</td>\n",
       "      <td>2</td>\n",
       "      <td>3.912109</td>\n",
       "      <td>33</td>\n",
       "    </tr>\n",
       "    <tr>\n",
       "      <td>4</td>\n",
       "      <td>2987004</td>\n",
       "      <td>0</td>\n",
       "      <td>86506</td>\n",
       "      <td>50.000000</td>\n",
       "      <td>1</td>\n",
       "      <td>4497</td>\n",
       "      <td>514.0</td>\n",
       "      <td>150.0</td>\n",
       "      <td>2</td>\n",
       "      <td>102.0</td>\n",
       "      <td>...</td>\n",
       "      <td>0.0</td>\n",
       "      <td>0.0</td>\n",
       "      <td>0.0</td>\n",
       "      <td>0.0</td>\n",
       "      <td>0</td>\n",
       "      <td>0</td>\n",
       "      <td>0</td>\n",
       "      <td>2</td>\n",
       "      <td>3.912109</td>\n",
       "      <td>14</td>\n",
       "    </tr>\n",
       "    <tr>\n",
       "      <td>...</td>\n",
       "      <td>...</td>\n",
       "      <td>...</td>\n",
       "      <td>...</td>\n",
       "      <td>...</td>\n",
       "      <td>...</td>\n",
       "      <td>...</td>\n",
       "      <td>...</td>\n",
       "      <td>...</td>\n",
       "      <td>...</td>\n",
       "      <td>...</td>\n",
       "      <td>...</td>\n",
       "      <td>...</td>\n",
       "      <td>...</td>\n",
       "      <td>...</td>\n",
       "      <td>...</td>\n",
       "      <td>...</td>\n",
       "      <td>...</td>\n",
       "      <td>...</td>\n",
       "      <td>...</td>\n",
       "      <td>...</td>\n",
       "      <td>...</td>\n",
       "    </tr>\n",
       "    <tr>\n",
       "      <td>590535</td>\n",
       "      <td>3577535</td>\n",
       "      <td>0</td>\n",
       "      <td>15811047</td>\n",
       "      <td>49.000000</td>\n",
       "      <td>4</td>\n",
       "      <td>6550</td>\n",
       "      <td>-1.0</td>\n",
       "      <td>150.0</td>\n",
       "      <td>4</td>\n",
       "      <td>226.0</td>\n",
       "      <td>...</td>\n",
       "      <td>-1.0</td>\n",
       "      <td>-1.0</td>\n",
       "      <td>-1.0</td>\n",
       "      <td>-1.0</td>\n",
       "      <td>2</td>\n",
       "      <td>6</td>\n",
       "      <td>16</td>\n",
       "      <td>1</td>\n",
       "      <td>3.892578</td>\n",
       "      <td>33</td>\n",
       "    </tr>\n",
       "    <tr>\n",
       "      <td>590536</td>\n",
       "      <td>3577536</td>\n",
       "      <td>0</td>\n",
       "      <td>15811049</td>\n",
       "      <td>39.500000</td>\n",
       "      <td>4</td>\n",
       "      <td>10444</td>\n",
       "      <td>225.0</td>\n",
       "      <td>150.0</td>\n",
       "      <td>2</td>\n",
       "      <td>224.0</td>\n",
       "      <td>...</td>\n",
       "      <td>-1.0</td>\n",
       "      <td>-1.0</td>\n",
       "      <td>-1.0</td>\n",
       "      <td>-1.0</td>\n",
       "      <td>2</td>\n",
       "      <td>6</td>\n",
       "      <td>16</td>\n",
       "      <td>1</td>\n",
       "      <td>3.675781</td>\n",
       "      <td>33</td>\n",
       "    </tr>\n",
       "    <tr>\n",
       "      <td>590537</td>\n",
       "      <td>3577537</td>\n",
       "      <td>0</td>\n",
       "      <td>15811079</td>\n",
       "      <td>30.953125</td>\n",
       "      <td>4</td>\n",
       "      <td>12037</td>\n",
       "      <td>595.0</td>\n",
       "      <td>150.0</td>\n",
       "      <td>2</td>\n",
       "      <td>224.0</td>\n",
       "      <td>...</td>\n",
       "      <td>-1.0</td>\n",
       "      <td>-1.0</td>\n",
       "      <td>-1.0</td>\n",
       "      <td>-1.0</td>\n",
       "      <td>2</td>\n",
       "      <td>6</td>\n",
       "      <td>16</td>\n",
       "      <td>1</td>\n",
       "      <td>3.431641</td>\n",
       "      <td>33</td>\n",
       "    </tr>\n",
       "    <tr>\n",
       "      <td>590538</td>\n",
       "      <td>3577538</td>\n",
       "      <td>0</td>\n",
       "      <td>15811088</td>\n",
       "      <td>117.000000</td>\n",
       "      <td>4</td>\n",
       "      <td>7826</td>\n",
       "      <td>481.0</td>\n",
       "      <td>150.0</td>\n",
       "      <td>2</td>\n",
       "      <td>224.0</td>\n",
       "      <td>...</td>\n",
       "      <td>-1.0</td>\n",
       "      <td>-1.0</td>\n",
       "      <td>-1.0</td>\n",
       "      <td>-1.0</td>\n",
       "      <td>2</td>\n",
       "      <td>6</td>\n",
       "      <td>16</td>\n",
       "      <td>1</td>\n",
       "      <td>4.761719</td>\n",
       "      <td>33</td>\n",
       "    </tr>\n",
       "    <tr>\n",
       "      <td>590539</td>\n",
       "      <td>3577539</td>\n",
       "      <td>0</td>\n",
       "      <td>15811131</td>\n",
       "      <td>280.000000</td>\n",
       "      <td>4</td>\n",
       "      <td>15066</td>\n",
       "      <td>170.0</td>\n",
       "      <td>150.0</td>\n",
       "      <td>2</td>\n",
       "      <td>102.0</td>\n",
       "      <td>...</td>\n",
       "      <td>-1.0</td>\n",
       "      <td>-1.0</td>\n",
       "      <td>-1.0</td>\n",
       "      <td>-1.0</td>\n",
       "      <td>2</td>\n",
       "      <td>6</td>\n",
       "      <td>16</td>\n",
       "      <td>1</td>\n",
       "      <td>5.636719</td>\n",
       "      <td>33</td>\n",
       "    </tr>\n",
       "  </tbody>\n",
       "</table>\n",
       "<p>589693 rows × 342 columns</p>\n",
       "</div>"
      ],
      "text/plain": [
       "        TransactionID  isFraud  TransactionDT  TransactionAmt  ProductCD  \\\n",
       "0             2987000        0          86400       68.500000          4   \n",
       "1             2987001        0          86401       29.000000          4   \n",
       "2             2987002        0          86469       59.000000          4   \n",
       "3             2987003        0          86499       50.000000          4   \n",
       "4             2987004        0          86506       50.000000          1   \n",
       "...               ...      ...            ...             ...        ...   \n",
       "590535        3577535        0       15811047       49.000000          4   \n",
       "590536        3577536        0       15811049       39.500000          4   \n",
       "590537        3577537        0       15811079       30.953125          4   \n",
       "590538        3577538        0       15811088      117.000000          4   \n",
       "590539        3577539        0       15811131      280.000000          4   \n",
       "\n",
       "        card1  card2  card3  card4  card5  ...  V336  V337  V338  V339  \\\n",
       "0       13926   -1.0  150.0      1  142.0  ...  -1.0  -1.0  -1.0  -1.0   \n",
       "1        2755  404.0  150.0      2  102.0  ...  -1.0  -1.0  -1.0  -1.0   \n",
       "2        4663  490.0  150.0      4  166.0  ...  -1.0  -1.0  -1.0  -1.0   \n",
       "3       18132  567.0  150.0      2  117.0  ...  -1.0  -1.0  -1.0  -1.0   \n",
       "4        4497  514.0  150.0      2  102.0  ...   0.0   0.0   0.0   0.0   \n",
       "...       ...    ...    ...    ...    ...  ...   ...   ...   ...   ...   \n",
       "590535   6550   -1.0  150.0      4  226.0  ...  -1.0  -1.0  -1.0  -1.0   \n",
       "590536  10444  225.0  150.0      2  224.0  ...  -1.0  -1.0  -1.0  -1.0   \n",
       "590537  12037  595.0  150.0      2  224.0  ...  -1.0  -1.0  -1.0  -1.0   \n",
       "590538   7826  481.0  150.0      2  224.0  ...  -1.0  -1.0  -1.0  -1.0   \n",
       "590539  15066  170.0  150.0      2  102.0  ...  -1.0  -1.0  -1.0  -1.0   \n",
       "\n",
       "        DeviceType  day  hour  Check  LogTrAmt  DeviceName  \n",
       "0                1    0     0      2  4.226562          23  \n",
       "1                1    0     0      2  3.367188           9  \n",
       "2                0    0     0      2  4.078125          30  \n",
       "3                0    0     0      2  3.912109          33  \n",
       "4                0    0     0      2  3.912109          14  \n",
       "...            ...  ...   ...    ...       ...         ...  \n",
       "590535           2    6    16      1  3.892578          33  \n",
       "590536           2    6    16      1  3.675781          33  \n",
       "590537           2    6    16      1  3.431641          33  \n",
       "590538           2    6    16      1  4.761719          33  \n",
       "590539           2    6    16      1  5.636719          33  \n",
       "\n",
       "[589693 rows x 342 columns]"
      ]
     },
     "execution_count": 35,
     "metadata": {},
     "output_type": "execute_result"
    }
   ],
   "source": [
    "train_df"
   ]
  },
  {
   "cell_type": "code",
   "execution_count": 36,
   "metadata": {},
   "outputs": [],
   "source": [
    "train_algo = train_df[:424578]\n",
    "val_algo = train_df[424578:]"
   ]
  },
  {
   "cell_type": "code",
   "execution_count": 37,
   "metadata": {},
   "outputs": [],
   "source": [
    "x_train = train_algo.drop(['isFraud'],axis=1)\n",
    "y_train = train_algo['isFraud']\n",
    "x_val = val_algo.drop(['isFraud'],axis=1)\n",
    "y_val = val_algo['isFraud']"
   ]
  },
  {
   "cell_type": "code",
   "execution_count": 38,
   "metadata": {},
   "outputs": [],
   "source": [
    "del train_algo, val_algo"
   ]
  },
  {
   "cell_type": "code",
   "execution_count": 39,
   "metadata": {},
   "outputs": [],
   "source": [
    "sc = StandardScaler()\n",
    "x_train_stc = sc.fit_transform(x_train)\n",
    "x_val_stc = sc.transform(x_val)"
   ]
  },
  {
   "cell_type": "code",
   "execution_count": 58,
   "metadata": {},
   "outputs": [],
   "source": [
    "clf = SGDClassifier(loss=\"log\")\n",
    "clf.fit(x_train_stc,y_train)\n",
    "y_train_pred = clf.predict_proba(x_train_stc)\n",
    "y_val_pred = clf.predict_proba(x_val_stc)"
   ]
  },
  {
   "cell_type": "code",
   "execution_count": 59,
   "metadata": {},
   "outputs": [
    {
     "name": "stdout",
     "output_type": "stream",
     "text": [
      "train auc: 0.859952605612943\n",
      "val auc: 0.8243837522066572\n"
     ]
    }
   ],
   "source": [
    "print('train auc:', roc_auc_score(y_train,y_train_pred[:,1]))\n",
    "print('val auc:', roc_auc_score(y_val,y_val_pred[:,1]))"
   ]
  },
  {
   "cell_type": "code",
   "execution_count": 52,
   "metadata": {},
   "outputs": [
    {
     "data": {
      "text/html": [
       "<div>\n",
       "<style scoped>\n",
       "    .dataframe tbody tr th:only-of-type {\n",
       "        vertical-align: middle;\n",
       "    }\n",
       "\n",
       "    .dataframe tbody tr th {\n",
       "        vertical-align: top;\n",
       "    }\n",
       "\n",
       "    .dataframe thead th {\n",
       "        text-align: right;\n",
       "    }\n",
       "</style>\n",
       "<table border=\"1\" class=\"dataframe\">\n",
       "  <thead>\n",
       "    <tr style=\"text-align: right;\">\n",
       "      <th>Predicted</th>\n",
       "      <th>0</th>\n",
       "      <th>1</th>\n",
       "    </tr>\n",
       "    <tr>\n",
       "      <th>Actual</th>\n",
       "      <th></th>\n",
       "      <th></th>\n",
       "    </tr>\n",
       "  </thead>\n",
       "  <tbody>\n",
       "    <tr>\n",
       "      <td>0</td>\n",
       "      <td>157417</td>\n",
       "      <td>1985</td>\n",
       "    </tr>\n",
       "    <tr>\n",
       "      <td>1</td>\n",
       "      <td>4373</td>\n",
       "      <td>1340</td>\n",
       "    </tr>\n",
       "  </tbody>\n",
       "</table>\n",
       "</div>"
      ],
      "text/plain": [
       "Predicted       0     1\n",
       "Actual                 \n",
       "0          157417  1985\n",
       "1            4373  1340"
      ]
     },
     "execution_count": 52,
     "metadata": {},
     "output_type": "execute_result"
    }
   ],
   "source": [
    "pd.crosstab(y_val, y_val_pred, rownames=['Actual'], colnames=['Predicted'])"
   ]
  },
  {
   "cell_type": "code",
   "execution_count": 53,
   "metadata": {},
   "outputs": [],
   "source": [
    "#Confusion Matrix \n",
    "from sklearn.metrics import confusion_matrix"
   ]
  },
  {
   "cell_type": "code",
   "execution_count": 54,
   "metadata": {},
   "outputs": [],
   "source": [
    "lgb_params = {\n",
    "                    'objective':'binary',\n",
    "                    'boosting_type':'gbdt',\n",
    "                    'metric':'auc',\n",
    "                    'n_jobs':-1,\n",
    "                    'learning_rate':0.01,\n",
    "                    'num_leaves': 2**8,\n",
    "                    'max_depth':-1,\n",
    "                    'tree_learner':'serial',\n",
    "                    'colsample_bytree': 0.7,\n",
    "                    'subsample_freq':1,\n",
    "                    'subsample':0.7,\n",
    "                    'n_estimators':1200,\n",
    "                    'max_bin':255,\n",
    "                    'verbose':-1,\n",
    "                    'early_stopping_rounds':40, \n",
    "                }"
   ]
  },
  {
   "cell_type": "code",
   "execution_count": 55,
   "metadata": {},
   "outputs": [
    {
     "name": "stdout",
     "output_type": "stream",
     "text": [
      "Training until validation scores don't improve for 40 rounds\n",
      "[100]\ttraining's auc: 0.929261\tvalid_1's auc: 0.885101\n",
      "[200]\ttraining's auc: 0.953254\tvalid_1's auc: 0.897753\n",
      "[300]\ttraining's auc: 0.971217\tvalid_1's auc: 0.909201\n",
      "[400]\ttraining's auc: 0.983179\tvalid_1's auc: 0.914687\n",
      "[500]\ttraining's auc: 0.989278\tvalid_1's auc: 0.917795\n",
      "[600]\ttraining's auc: 0.992867\tvalid_1's auc: 0.91976\n",
      "[700]\ttraining's auc: 0.995137\tvalid_1's auc: 0.920343\n",
      "[800]\ttraining's auc: 0.996688\tvalid_1's auc: 0.921033\n",
      "Early stopping, best iteration is:\n",
      "[775]\ttraining's auc: 0.996343\tvalid_1's auc: 0.921058\n"
     ]
    }
   ],
   "source": [
    "import lightgbm as lgb\n",
    "train_data = lgb.Dataset(x_train_stc,label=y_train)\n",
    "val_data = lgb.Dataset(x_val_stc,label=y_val)\n",
    "estimator = lgb.train(lgb_params, train_set=train_data, valid_sets=[train_data, val_data], verbose_eval=100)"
   ]
  },
  {
   "cell_type": "code",
   "execution_count": 71,
   "metadata": {},
   "outputs": [],
   "source": [
    " clf = xgb.XGBClassifier(\n",
    "        learning_rate=0.009,\n",
    "        max_depth=10,\n",
    "        boosting='gbdt',\n",
    "        objective='binary:logistic',\n",
    "        metric='auc',\n",
    "        seed=4,\n",
    "        num_iterations=10000,\n",
    "        early_stopping_round=100,\n",
    "        verbose_eval=200,\n",
    "        num_leaves=64,\n",
    "        feature_fraction=0.8,\n",
    "        bagging_fraction=0.8,\n",
    "        bagging_freq=5)"
   ]
  },
  {
   "cell_type": "code",
   "execution_count": 47,
   "metadata": {},
   "outputs": [
    {
     "name": "stdout",
     "output_type": "stream",
     "text": [
      "[0]\tvalidation_0-error:0.029355\n",
      "Will train until validation_0-error hasn't improved in 3 rounds.\n",
      "[1]\tvalidation_0-error:0.02924\n",
      "[2]\tvalidation_0-error:0.029428\n",
      "[3]\tvalidation_0-error:0.029313\n",
      "[4]\tvalidation_0-error:0.02921\n",
      "[5]\tvalidation_0-error:0.029222\n",
      "[6]\tvalidation_0-error:0.029295\n",
      "[7]\tvalidation_0-error:0.029234\n",
      "Stopping. Best iteration:\n",
      "[4]\tvalidation_0-error:0.02921\n",
      "\n"
     ]
    },
    {
     "data": {
      "text/plain": [
       "XGBClassifier(bagging_fraction=0.8, bagging_freq=5, base_score=0.5,\n",
       "              booster='gbtree', boosting='gbdt', colsample_bylevel=1,\n",
       "              colsample_bynode=1, colsample_bytree=1, early_stopping_round=100,\n",
       "              feature_fraction=0.8, gamma=0, learning_rate=0.009,\n",
       "              max_delta_step=0, max_depth=10, metric='auc', min_child_weight=1,\n",
       "              missing=None, n_estimators=100, n_jobs=1, nthread=None,\n",
       "              num_iterations=10000, num_leaves=64, objective='binary:logistic',\n",
       "              random_state=0, reg_alpha=0, reg_lambda=1, scale_pos_weight=1,\n",
       "              seed=4, silent=None, subsample=1, ...)"
      ]
     },
     "execution_count": 47,
     "metadata": {},
     "output_type": "execute_result"
    }
   ],
   "source": [
    "clf.fit(x_train_stc, y_train, verbose=True, eval_set=[(x_val_stc, y_val)], early_stopping_rounds = 3)"
   ]
  },
  {
   "cell_type": "code",
   "execution_count": 62,
   "metadata": {},
   "outputs": [],
   "source": [
    "#SVM\n",
    "\n",
    "clf = SGDClassifier(loss=\"hinge\")\n",
    "clf.fit(x_train_stc,y_train)\n",
    "y_train_pred=clf.predict(x_train_stc)\n",
    "y_val_pred = clf.predict(x_val_stc)"
   ]
  },
  {
   "cell_type": "code",
   "execution_count": 63,
   "metadata": {},
   "outputs": [
    {
     "name": "stdout",
     "output_type": "stream",
     "text": [
      "train auc: 0.6230678356791511\n",
      "val auc: 0.5998699425379267\n"
     ]
    }
   ],
   "source": [
    "print('train auc:',roc_auc_score(y_train,y_train_pred))\n",
    "print('val auc:',roc_auc_score(y_val,y_val_pred))"
   ]
  },
  {
   "cell_type": "code",
   "execution_count": 64,
   "metadata": {},
   "outputs": [
    {
     "data": {
      "text/html": [
       "<div>\n",
       "<style scoped>\n",
       "    .dataframe tbody tr th:only-of-type {\n",
       "        vertical-align: middle;\n",
       "    }\n",
       "\n",
       "    .dataframe tbody tr th {\n",
       "        vertical-align: top;\n",
       "    }\n",
       "\n",
       "    .dataframe thead th {\n",
       "        text-align: right;\n",
       "    }\n",
       "</style>\n",
       "<table border=\"1\" class=\"dataframe\">\n",
       "  <thead>\n",
       "    <tr style=\"text-align: right;\">\n",
       "      <th>Predicted</th>\n",
       "      <th>0</th>\n",
       "      <th>1</th>\n",
       "    </tr>\n",
       "    <tr>\n",
       "      <th>Actual</th>\n",
       "      <th></th>\n",
       "      <th></th>\n",
       "    </tr>\n",
       "  </thead>\n",
       "  <tbody>\n",
       "    <tr>\n",
       "      <td>0</td>\n",
       "      <td>158038</td>\n",
       "      <td>1364</td>\n",
       "    </tr>\n",
       "    <tr>\n",
       "      <td>1</td>\n",
       "      <td>4523</td>\n",
       "      <td>1190</td>\n",
       "    </tr>\n",
       "  </tbody>\n",
       "</table>\n",
       "</div>"
      ],
      "text/plain": [
       "Predicted       0     1\n",
       "Actual                 \n",
       "0          158038  1364\n",
       "1            4523  1190"
      ]
     },
     "execution_count": 64,
     "metadata": {},
     "output_type": "execute_result"
    }
   ],
   "source": [
    "pd.crosstab(y_val, y_val_pred, rownames=['Actual'], colnames=['Predicted'])"
   ]
  },
  {
   "cell_type": "code",
   "execution_count": 67,
   "metadata": {},
   "outputs": [
    {
     "data": {
      "text/plain": [
       "RandomForestClassifier(bootstrap=True, class_weight=None, criterion='gini',\n",
       "                       max_depth=None, max_features='auto', max_leaf_nodes=None,\n",
       "                       min_impurity_decrease=0.0, min_impurity_split=None,\n",
       "                       min_samples_leaf=1, min_samples_split=2,\n",
       "                       min_weight_fraction_leaf=0.0, n_estimators=100, n_jobs=2,\n",
       "                       oob_score=False, random_state=0, verbose=0,\n",
       "                       warm_start=False)"
      ]
     },
     "execution_count": 67,
     "metadata": {},
     "output_type": "execute_result"
    }
   ],
   "source": [
    "rand_clas = RandomForestClassifier(n_jobs=2, random_state=0, n_estimators=100, bootstrap = True)\n",
    "rand_clas.fit(x_train_stc,y_train)"
   ]
  },
  {
   "cell_type": "code",
   "execution_count": 68,
   "metadata": {},
   "outputs": [],
   "source": [
    "predictions = rand_clas.predict(x_val_stc)"
   ]
  },
  {
   "cell_type": "code",
   "execution_count": 69,
   "metadata": {},
   "outputs": [
    {
     "data": {
      "text/html": [
       "<div>\n",
       "<style scoped>\n",
       "    .dataframe tbody tr th:only-of-type {\n",
       "        vertical-align: middle;\n",
       "    }\n",
       "\n",
       "    .dataframe tbody tr th {\n",
       "        vertical-align: top;\n",
       "    }\n",
       "\n",
       "    .dataframe thead th {\n",
       "        text-align: right;\n",
       "    }\n",
       "</style>\n",
       "<table border=\"1\" class=\"dataframe\">\n",
       "  <thead>\n",
       "    <tr style=\"text-align: right;\">\n",
       "      <th>Predicted</th>\n",
       "      <th>0</th>\n",
       "      <th>1</th>\n",
       "    </tr>\n",
       "    <tr>\n",
       "      <th>Actual</th>\n",
       "      <th></th>\n",
       "      <th></th>\n",
       "    </tr>\n",
       "  </thead>\n",
       "  <tbody>\n",
       "    <tr>\n",
       "      <td>0</td>\n",
       "      <td>159020</td>\n",
       "      <td>382</td>\n",
       "    </tr>\n",
       "    <tr>\n",
       "      <td>1</td>\n",
       "      <td>3954</td>\n",
       "      <td>1759</td>\n",
       "    </tr>\n",
       "  </tbody>\n",
       "</table>\n",
       "</div>"
      ],
      "text/plain": [
       "Predicted       0     1\n",
       "Actual                 \n",
       "0          159020   382\n",
       "1            3954  1759"
      ]
     },
     "execution_count": 69,
     "metadata": {},
     "output_type": "execute_result"
    }
   ],
   "source": [
    "pd.crosstab(y_val, predictions, rownames=['Actual'], colnames=['Predicted'])"
   ]
  },
  {
   "cell_type": "code",
   "execution_count": 70,
   "metadata": {},
   "outputs": [
    {
     "name": "stdout",
     "output_type": "stream",
     "text": [
      "val auc: 0.6527489097275091\n"
     ]
    }
   ],
   "source": [
    "print('val auc:', roc_auc_score(y_val,predictions))"
   ]
  },
  {
   "cell_type": "code",
   "execution_count": null,
   "metadata": {},
   "outputs": [],
   "source": []
  }
 ],
 "metadata": {
  "accelerator": "GPU",
  "colab": {
   "collapsed_sections": [],
   "name": "Fraud1.ipynb",
   "provenance": []
  },
  "kernelspec": {
   "display_name": "Python 3",
   "language": "python",
   "name": "python3"
  },
  "language_info": {
   "codemirror_mode": {
    "name": "ipython",
    "version": 3
   },
   "file_extension": ".py",
   "mimetype": "text/x-python",
   "name": "python",
   "nbconvert_exporter": "python",
   "pygments_lexer": "ipython3",
   "version": "3.7.3"
  }
 },
 "nbformat": 4,
 "nbformat_minor": 1
}
